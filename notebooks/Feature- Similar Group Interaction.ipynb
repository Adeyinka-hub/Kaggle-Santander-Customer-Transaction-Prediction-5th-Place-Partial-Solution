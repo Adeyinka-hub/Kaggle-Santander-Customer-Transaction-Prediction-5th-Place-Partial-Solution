{
 "cells": [
  {
   "cell_type": "code",
   "execution_count": 1,
   "metadata": {},
   "outputs": [],
   "source": [
    "import pandas as pd\n",
    "import numpy as np\n",
    "import matplotlib\n",
    "import matplotlib.pyplot as plt\n",
    "%matplotlib inline\n",
    "from tqdm import tqdm; tqdm.pandas()\n",
    "pd.options.display.max_columns = 202\n",
    "pd.options.display.max_rows = 300"
   ]
  },
  {
   "cell_type": "code",
   "execution_count": 2,
   "metadata": {},
   "outputs": [],
   "source": [
    "train = pd.read_pickle('data/train_original.pkl')\n",
    "test = pd.read_pickle('data/test_original.pkl')\n",
    "special_cols = [col for col in train.columns if train[col].dtype != np.float64]\n",
    "feature_cols = [col for col in train.columns if col not in special_cols]"
   ]
  },
  {
   "cell_type": "code",
   "execution_count": 3,
   "metadata": {},
   "outputs": [],
   "source": [
    "gps = [\n",
    "    [12, 108, 126],\n",
    "    [103, 125, 148, 161, 166, 169],\n",
    "    [68, 91]\n",
    "]"
   ]
  },
  {
   "cell_type": "code",
   "execution_count": 4,
   "metadata": {
    "scrolled": true
   },
   "outputs": [],
   "source": [
    "for gp in gps:\n",
    "    cols = np.array(feature_cols)[gp]\n",
    "    \n",
    "    for i in range(len(gp)):\n",
    "        for j in range(i+1, len(gp)):\n",
    "            train[cols[i]+'_'+cols[j]+'_sum'] = 0\n",
    "            test[cols[i]+'_'+cols[j]+'_sum'] = 0\n",
    "            train[cols[i]+'_'+cols[j]+'_diff'] = 0\n",
    "            test[cols[i]+'_'+cols[j]+'_diff'] = 0\n",
    "            \n",
    "            train[cols[i]+'_'+cols[j]+'_sum'] = train[cols[i]] + train[cols[j]]\n",
    "            test[cols[i]+'_'+cols[j]+'_sum'] = test[cols[i]] + test[cols[j]]\n",
    "            train[cols[i]+'_'+cols[j]+'_diff'] = train[cols[i]] - train[cols[j]]\n",
    "            test[cols[i]+'_'+cols[j]+'_diff'] = test[cols[i]] - test[cols[j]]"
   ]
  },
  {
   "cell_type": "code",
   "execution_count": 5,
   "metadata": {},
   "outputs": [
    {
     "data": {
      "text/plain": [
       "38"
      ]
     },
     "execution_count": 5,
     "metadata": {},
     "output_type": "execute_result"
    }
   ],
   "source": [
    "new_feats = [c for c in train.columns if 'sum' in c or 'diff' in c]\n",
    "len(new_feats)"
   ]
  },
  {
   "cell_type": "code",
   "execution_count": 6,
   "metadata": {
    "scrolled": true
   },
   "outputs": [],
   "source": [
    "train[new_feats].to_pickle('features/feat_interact_train.pkl')\n",
    "test[new_feats].to_pickle('features/feat_interact_test.pkl')"
   ]
  }
 ],
 "metadata": {
  "kernelspec": {
   "display_name": "Python 3",
   "language": "python",
   "name": "python3"
  },
  "language_info": {
   "codemirror_mode": {
    "name": "ipython",
    "version": 3
   },
   "file_extension": ".py",
   "mimetype": "text/x-python",
   "name": "python",
   "nbconvert_exporter": "python",
   "pygments_lexer": "ipython3",
   "version": "3.5.6"
  }
 },
 "nbformat": 4,
 "nbformat_minor": 2
}
