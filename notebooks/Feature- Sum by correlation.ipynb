{
 "cells": [
  {
   "cell_type": "code",
   "execution_count": 1,
   "metadata": {},
   "outputs": [],
   "source": [
    "from sklearn.mixture import GaussianMixture\n",
    "import pandas as pd\n",
    "import numpy as np\n",
    "import matplotlib\n",
    "import matplotlib.pyplot as plt\n",
    "%matplotlib inline\n",
    "from tqdm import tqdm; tqdm.pandas()\n",
    "pd.options.display.max_columns = 202\n",
    "pd.options.display.max_rows = 300\n",
    "import seaborn as sns"
   ]
  },
  {
   "cell_type": "code",
   "execution_count": 2,
   "metadata": {},
   "outputs": [
    {
     "name": "stderr",
     "output_type": "stream",
     "text": [
      "100%|████████████████████████████████████████████████████████████████████████████| 200/200 [00:05<00:00, 33.55it/s]\n"
     ]
    }
   ],
   "source": [
    "train = pd.read_pickle('data/train_original.pkl')\n",
    "test = pd.read_pickle('data/test_original.pkl')\n",
    "special_cols = [col for col in train.columns if train[col].dtype != np.float64]\n",
    "feature_cols = [col for col in train.columns if col not in special_cols]\n",
    "\n",
    "train.drop(special_cols[0], axis=1, inplace=True)\n",
    "test.drop(special_cols[0], axis=1, inplace=True)\n",
    "\n",
    "unique_samples = []\n",
    "unique_count = np.zeros_like(test)\n",
    "for feature in tqdm(range(test.shape[1])):\n",
    "    _, index_, count_ = np.unique(test.values[:, feature], return_counts=True, return_index=True)\n",
    "    unique_count[index_[count_ == 1], feature] += 1\n",
    "\n",
    "# Samples which have unique values are real the others are fake\n",
    "real_samples_indexes = np.argwhere(np.sum(unique_count, axis=1) > 0)[:, 0]\n",
    "synthetic_samples_indexes = np.argwhere(np.sum(unique_count, axis=1) == 0)[:, 0]\n",
    "\n",
    "fake_test=test.iloc[synthetic_samples_indexes].reset_index(drop=True)\n",
    "test=test.iloc[real_samples_indexes].reset_index(drop=True)"
   ]
  },
  {
   "cell_type": "code",
   "execution_count": 3,
   "metadata": {},
   "outputs": [
    {
     "name": "stderr",
     "output_type": "stream",
     "text": [
      "100%|████████████████████████████████████████████████████████████████████████████| 200/200 [00:30<00:00,  6.59it/s]\n"
     ]
    }
   ],
   "source": [
    "target_corr = [train[[f, 'target']].corr('spearman').loc[f, 'target'] for f in tqdm(feature_cols)]"
   ]
  },
  {
   "cell_type": "code",
   "execution_count": 4,
   "metadata": {},
   "outputs": [
    {
     "name": "stderr",
     "output_type": "stream",
     "text": [
      "100%|███████████████████████████████████████████████████████████████████| 200000/200000 [00:06<00:00, 31392.25it/s]\n",
      "100%|███████████████████████████████████████████████████████████████████| 100000/100000 [00:03<00:00, 31220.73it/s]\n"
     ]
    }
   ],
   "source": [
    "train_target_corr_sum = train[feature_cols].progress_apply(lambda row: np.dot(row.values, target_corr), axis=1)\n",
    "test_target_corr_sum = test[feature_cols].progress_apply(lambda row: np.dot(row.values, target_corr), axis=1)"
   ]
  },
  {
   "cell_type": "code",
   "execution_count": 6,
   "metadata": {
    "scrolled": true
   },
   "outputs": [
    {
     "data": {
      "image/png": "[encoded data removed]",
      "text/plain": [
       "<Figure size 432x288 with 1 Axes>"
      ]
     },
     "metadata": {
      "needs_background": "light"
     },
     "output_type": "display_data"
    },
    {
     "data": {
      "image/png": "[encoded data removed]",
      "text/plain": [
       "<Figure size 432x288 with 1 Axes>"
      ]
     },
     "metadata": {
      "needs_background": "light"
     },
     "output_type": "display_data"
    }
   ],
   "source": [
    "plt.hist(train_target_corr_sum); plt.show(); \n",
    "plt.hist(test_target_corr_sum); plt.show()"
   ]
  },
  {
   "cell_type": "code",
   "execution_count": 7,
   "metadata": {},
   "outputs": [
    {
     "data": {
      "text/html": [
       "<div>\n",
       "<style scoped>\n",
       "    .dataframe tbody tr th:only-of-type {\n",
       "        vertical-align: middle;\n",
       "    }\n",
       "\n",
       "    .dataframe tbody tr th {\n",
       "        vertical-align: top;\n",
       "    }\n",
       "\n",
       "    .dataframe thead th {\n",
       "        text-align: right;\n",
       "    }\n",
       "</style>\n",
       "<table border=\"1\" class=\"dataframe\">\n",
       "  <thead>\n",
       "    <tr style=\"text-align: right;\">\n",
       "      <th></th>\n",
       "      <th>target</th>\n",
       "      <th>train_target_corr_sum</th>\n",
       "    </tr>\n",
       "  </thead>\n",
       "  <tbody>\n",
       "    <tr>\n",
       "      <th>target</th>\n",
       "      <td>1.00000</td>\n",
       "      <td>0.32163</td>\n",
       "    </tr>\n",
       "    <tr>\n",
       "      <th>train_target_corr_sum</th>\n",
       "      <td>0.32163</td>\n",
       "      <td>1.00000</td>\n",
       "    </tr>\n",
       "  </tbody>\n",
       "</table>\n",
       "</div>"
      ],
      "text/plain": [
       "                        target  train_target_corr_sum\n",
       "target                 1.00000                0.32163\n",
       "train_target_corr_sum  0.32163                1.00000"
      ]
     },
     "execution_count": 7,
     "metadata": {},
     "output_type": "execute_result"
    }
   ],
   "source": [
    "train['train_target_corr_sum'] = train_target_corr_sum\n",
    "test['train_target_corr_sum'] = test_target_corr_sum\n",
    "train[['target', 'train_target_corr_sum']].corr('spearman')"
   ]
  },
  {
   "cell_type": "code",
   "execution_count": 8,
   "metadata": {
    "scrolled": true
   },
   "outputs": [],
   "source": [
    "train[['train_target_corr_sum']].to_pickle('features/target_corr_sum_train.pkl')\n",
    "test[['train_target_corr_sum']].to_pickle('features/target_corr_sum_test.pkl')"
   ]
  }
 ],
 "metadata": {
  "kernelspec": {
   "display_name": "Python 3",
   "language": "python",
   "name": "python3"
  },
  "language_info": {
   "codemirror_mode": {
    "name": "ipython",
    "version": 3
   },
   "file_extension": ".py",
   "mimetype": "text/x-python",
   "name": "python",
   "nbconvert_exporter": "python",
   "pygments_lexer": "ipython3",
   "version": "3.5.6"
  }
 },
 "nbformat": 4,
 "nbformat_minor": 2
}
