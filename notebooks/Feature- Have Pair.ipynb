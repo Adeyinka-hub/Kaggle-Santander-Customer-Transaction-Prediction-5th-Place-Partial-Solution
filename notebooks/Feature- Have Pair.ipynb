{
 "cells": [
  {
   "cell_type": "code",
   "execution_count": 1,
   "metadata": {},
   "outputs": [],
   "source": [
    "import pandas as pd\n",
    "import numpy as np\n",
    "import matplotlib\n",
    "import matplotlib.pyplot as plt\n",
    "%matplotlib inline\n",
    "from tqdm import tqdm; tqdm.pandas()\n",
    "pd.options.display.max_columns = 202\n",
    "pd.options.display.max_rows = 300"
   ]
  },
  {
   "cell_type": "code",
   "execution_count": 2,
   "metadata": {},
   "outputs": [],
   "source": [
    "train = pd.read_pickle('data/train_original.pkl')\n",
    "test = pd.read_pickle('data/test_original.pkl')\n",
    "special_cols = [col for col in train.columns if train[col].dtype != np.float64]\n",
    "feature_cols = [col for col in train.columns if col not in special_cols]"
   ]
  },
  {
   "cell_type": "code",
   "execution_count": 3,
   "metadata": {},
   "outputs": [],
   "source": [
    "all_df = pd.concat([train[feature_cols], test[feature_cols]], axis=0).reset_index(drop=True)\n",
    "all_vc = pd.Series(np.concatenate(all_df.values)).value_counts()"
   ]
  },
  {
   "cell_type": "code",
   "execution_count": 4,
   "metadata": {},
   "outputs": [],
   "source": [
    "all_df = pd.concat([train[feature_cols], test[feature_cols]], axis=0).reset_index(drop=True)\n",
    "all_vc = pd.Series(np.concatenate(all_df.values)).value_counts()"
   ]
  },
  {
   "cell_type": "code",
   "execution_count": 5,
   "metadata": {},
   "outputs": [
    {
     "name": "stderr",
     "output_type": "stream",
     "text": [
      "100%|██████████████████████████████████████████████████████████████████| 874495/874495 [00:01<00:00, 755829.69it/s]\n"
     ]
    },
    {
     "data": {
      "text/plain": [
       "(381200, 762400, 874495, 0.4359087244638334, 0.8718174489276668)"
      ]
     },
     "execution_count": 5,
     "metadata": {},
     "output_type": "execute_result"
    }
   ],
   "source": [
    "magic_index = []\n",
    "for index in tqdm(all_vc.index):\n",
    "    if index > 0 and -index in all_vc.index:\n",
    "        magic_index += [index]\n",
    "        \n",
    "len(magic_index), len(magic_index)*2, len(all_vc.index), len(magic_index)/len(all_vc.index), len(magic_index)*2/len(all_vc.index)"
   ]
  },
  {
   "cell_type": "code",
   "execution_count": 6,
   "metadata": {},
   "outputs": [
    {
     "name": "stderr",
     "output_type": "stream",
     "text": [
      "100%|████████████████████████████████████████████████████████████████████████████| 200/200 [00:16<00:00, 12.05it/s]\n"
     ]
    }
   ],
   "source": [
    "new_train = pd.DataFrame()\n",
    "new_test = pd.DataFrame()\n",
    "\n",
    "for col in tqdm(feature_cols):\n",
    "    new_train[col+'_have_pair'] = train[col].isin(magic_index)\n",
    "    new_test[col+'_have_pair'] = test[col].isin(magic_index)"
   ]
  },
  {
   "cell_type": "code",
   "execution_count": 7,
   "metadata": {},
   "outputs": [],
   "source": [
    "new_train.to_pickle('features/has_pair_train')\n",
    "new_test.to_pickle('features/has_pair_test')"
   ]
  }
 ],
 "metadata": {
  "kernelspec": {
   "display_name": "Python 3",
   "language": "python",
   "name": "python3"
  },
  "language_info": {
   "codemirror_mode": {
    "name": "ipython",
    "version": 3
   },
   "file_extension": ".py",
   "mimetype": "text/x-python",
   "name": "python",
   "nbconvert_exporter": "python",
   "pygments_lexer": "ipython3",
   "version": "3.5.6"
  }
 },
 "nbformat": 4,
 "nbformat_minor": 2
}
