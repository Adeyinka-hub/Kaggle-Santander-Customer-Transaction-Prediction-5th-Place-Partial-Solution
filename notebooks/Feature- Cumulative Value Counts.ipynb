{
 "cells": [
  {
   "cell_type": "code",
   "execution_count": 1,
   "metadata": {},
   "outputs": [],
   "source": [
    "import pandas as pd\n",
    "import numpy as np\n",
    "import matplotlib\n",
    "import matplotlib.pyplot as plt\n",
    "%matplotlib inline\n",
    "from tqdm import tqdm; tqdm.pandas()\n",
    "pd.options.display.max_columns = 202\n",
    "pd.options.display.max_rows = 300"
   ]
  },
  {
   "cell_type": "code",
   "execution_count": 2,
   "metadata": {},
   "outputs": [],
   "source": [
    "train = pd.read_pickle('data/train_original.pkl')\n",
    "test = pd.read_pickle('data/test_original.pkl')\n",
    "special_cols = [col for col in train.columns if train[col].dtype != np.float64]\n",
    "feature_cols = [col for col in train.columns if col not in special_cols]"
   ]
  },
  {
   "cell_type": "code",
   "execution_count": 3,
   "metadata": {},
   "outputs": [],
   "source": [
    "all_df = pd.concat([train[feature_cols], test[feature_cols]], axis=0).reset_index(drop=True)"
   ]
  },
  {
   "cell_type": "code",
   "execution_count": 4,
   "metadata": {},
   "outputs": [
    {
     "name": "stderr",
     "output_type": "stream",
     "text": [
      "100%|████████████████████████████████████████████████████████████████████████████| 199/199 [00:34<00:00,  5.53it/s]\n"
     ]
    }
   ],
   "source": [
    "cumulative_vc = all_df[feature_cols[0]].value_counts()\n",
    "all_df[feature_cols[0]+'_cum_vc'] = all_df[feature_cols[0]].map(cumulative_vc)\n",
    "\n",
    "for col in tqdm(feature_cols[1:]):\n",
    "    vc = all_df[col].value_counts()\n",
    "    comm_idx = np.intersect1d(vc.index, cumulative_vc.index)\n",
    "    cumulative_vc.loc[comm_idx] += vc.loc[comm_idx]\n",
    "    cumulative_vc.append(vc.loc[vc.index[~vc.index.isin(comm_idx)]])\n",
    "    all_df[feature_cols[0]+'_cum_vc'] = all_df[col].map(cumulative_vc)"
   ]
  },
  {
   "cell_type": "code",
   "execution_count": 5,
   "metadata": {},
   "outputs": [],
   "source": [
    "all_df.iloc[:train.shape[0]].to_pickle('features/cumulative_vc_train.pkl')\n",
    "all_df.iloc[train.shape[0]:].reset_index(drop=True).to_pickle('features/cumulative_vc_test.pkl')"
   ]
  }
 ],
 "metadata": {
  "kernelspec": {
   "display_name": "Python 3",
   "language": "python",
   "name": "python3"
  },
  "language_info": {
   "codemirror_mode": {
    "name": "ipython",
    "version": 3
   },
   "file_extension": ".py",
   "mimetype": "text/x-python",
   "name": "python",
   "nbconvert_exporter": "python",
   "pygments_lexer": "ipython3",
   "version": "3.5.6"
  }
 },
 "nbformat": 4,
 "nbformat_minor": 2
}
