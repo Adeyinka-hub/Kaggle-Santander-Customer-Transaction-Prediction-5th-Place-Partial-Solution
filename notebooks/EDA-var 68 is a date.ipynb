{
 "cells": [
  {
   "cell_type": "code",
   "execution_count": 1,
   "metadata": {},
   "outputs": [],
   "source": [
    "import pandas as pd\n",
    "import numpy as np\n",
    "import matplotlib\n",
    "import matplotlib.pyplot as plt\n",
    "%matplotlib inline\n",
    "from tqdm import tqdm; tqdm.pandas()\n",
    "pd.options.display.max_columns = 202\n",
    "pd.options.display.max_rows = 300"
   ]
  },
  {
   "cell_type": "code",
   "execution_count": 2,
   "metadata": {},
   "outputs": [],
   "source": [
    "train = pd.read_pickle('data/train_original.pkl')\n",
    "test = pd.read_pickle('data/test_original.pkl')\n",
    "special_cols = [col for col in train.columns if train[col].dtype != np.float64]\n",
    "feature_cols = [col for col in train.columns if col not in special_cols]"
   ]
  },
  {
   "cell_type": "code",
   "execution_count": 3,
   "metadata": {},
   "outputs": [],
   "source": [
    "# find other columnns that have same values as var 68\n",
    "date_cols = []\n",
    "for col in feature_cols:\n",
    "    if col == 'var_68': continue\n",
    "    if train[col].isin(train['var_68']).sum() > 0:\n",
    "        date_cols += [col]"
   ]
  },
  {
   "cell_type": "code",
   "execution_count": 4,
   "metadata": {
    "collapsed": true
   },
   "outputs": [
    {
     "data": {
      "text/plain": [
       "(156,\n",
       " ['var_0',\n",
       "  'var_1',\n",
       "  'var_2',\n",
       "  'var_3',\n",
       "  'var_5',\n",
       "  'var_6',\n",
       "  'var_8',\n",
       "  'var_9',\n",
       "  'var_10',\n",
       "  'var_11',\n",
       "  'var_13',\n",
       "  'var_14',\n",
       "  'var_16',\n",
       "  'var_17',\n",
       "  'var_18',\n",
       "  'var_19',\n",
       "  'var_20',\n",
       "  'var_21',\n",
       "  'var_22',\n",
       "  'var_24',\n",
       "  'var_26',\n",
       "  'var_28',\n",
       "  'var_29',\n",
       "  'var_30',\n",
       "  'var_31',\n",
       "  'var_32',\n",
       "  'var_33',\n",
       "  'var_35',\n",
       "  'var_36',\n",
       "  'var_37',\n",
       "  'var_38',\n",
       "  'var_39',\n",
       "  'var_40',\n",
       "  'var_41',\n",
       "  'var_44',\n",
       "  'var_45',\n",
       "  'var_46',\n",
       "  'var_47',\n",
       "  'var_48',\n",
       "  'var_49',\n",
       "  'var_51',\n",
       "  'var_52',\n",
       "  'var_53',\n",
       "  'var_54',\n",
       "  'var_55',\n",
       "  'var_56',\n",
       "  'var_57',\n",
       "  'var_58',\n",
       "  'var_60',\n",
       "  'var_61',\n",
       "  'var_62',\n",
       "  'var_63',\n",
       "  'var_64',\n",
       "  'var_65',\n",
       "  'var_66',\n",
       "  'var_67',\n",
       "  'var_69',\n",
       "  'var_70',\n",
       "  'var_72',\n",
       "  'var_73',\n",
       "  'var_74',\n",
       "  'var_75',\n",
       "  'var_76',\n",
       "  'var_78',\n",
       "  'var_80',\n",
       "  'var_82',\n",
       "  'var_83',\n",
       "  'var_84',\n",
       "  'var_86',\n",
       "  'var_87',\n",
       "  'var_88',\n",
       "  'var_89',\n",
       "  'var_90',\n",
       "  'var_92',\n",
       "  'var_94',\n",
       "  'var_96',\n",
       "  'var_97',\n",
       "  'var_100',\n",
       "  'var_101',\n",
       "  'var_102',\n",
       "  'var_104',\n",
       "  'var_105',\n",
       "  'var_106',\n",
       "  'var_107',\n",
       "  'var_110',\n",
       "  'var_111',\n",
       "  'var_112',\n",
       "  'var_113',\n",
       "  'var_114',\n",
       "  'var_115',\n",
       "  'var_116',\n",
       "  'var_117',\n",
       "  'var_118',\n",
       "  'var_119',\n",
       "  'var_120',\n",
       "  'var_122',\n",
       "  'var_123',\n",
       "  'var_124',\n",
       "  'var_127',\n",
       "  'var_128',\n",
       "  'var_129',\n",
       "  'var_132',\n",
       "  'var_134',\n",
       "  'var_135',\n",
       "  'var_136',\n",
       "  'var_137',\n",
       "  'var_138',\n",
       "  'var_139',\n",
       "  'var_140',\n",
       "  'var_141',\n",
       "  'var_142',\n",
       "  'var_143',\n",
       "  'var_145',\n",
       "  'var_146',\n",
       "  'var_147',\n",
       "  'var_149',\n",
       "  'var_151',\n",
       "  'var_152',\n",
       "  'var_154',\n",
       "  'var_155',\n",
       "  'var_157',\n",
       "  'var_158',\n",
       "  'var_159',\n",
       "  'var_160',\n",
       "  'var_161',\n",
       "  'var_162',\n",
       "  'var_163',\n",
       "  'var_164',\n",
       "  'var_165',\n",
       "  'var_167',\n",
       "  'var_168',\n",
       "  'var_169',\n",
       "  'var_170',\n",
       "  'var_171',\n",
       "  'var_172',\n",
       "  'var_173',\n",
       "  'var_174',\n",
       "  'var_175',\n",
       "  'var_176',\n",
       "  'var_177',\n",
       "  'var_178',\n",
       "  'var_179',\n",
       "  'var_180',\n",
       "  'var_182',\n",
       "  'var_183',\n",
       "  'var_184',\n",
       "  'var_185',\n",
       "  'var_186',\n",
       "  'var_187',\n",
       "  'var_188',\n",
       "  'var_190',\n",
       "  'var_191',\n",
       "  'var_192',\n",
       "  'var_193',\n",
       "  'var_196',\n",
       "  'var_199'])"
      ]
     },
     "execution_count": 4,
     "metadata": {},
     "output_type": "execute_result"
    }
   ],
   "source": [
    "len(date_cols), date_cols"
   ]
  },
  {
   "cell_type": "code",
   "execution_count": 5,
   "metadata": {},
   "outputs": [
    {
     "name": "stderr",
     "output_type": "stream",
     "text": [
      "100%|███████████████████████████████████████████████████████████████████████████| 200/200 [00:00<00:00, 292.61it/s]\n"
     ]
    }
   ],
   "source": [
    "# find second level date cols using last date cols found\n",
    "second_level_date_cols = []\n",
    "for col in tqdm(feature_cols):\n",
    "    if col == 'var_68': continue\n",
    "    if col in date_cols: continue\n",
    "    \n",
    "    for target_col in date_cols:        \n",
    "        if train[col].isin(train[target_col]).sum() > 0:\n",
    "            second_level_date_cols += [col]\n",
    "            break"
   ]
  },
  {
   "cell_type": "code",
   "execution_count": 6,
   "metadata": {
    "collapsed": true
   },
   "outputs": [
    {
     "data": {
      "text/plain": [
       "(43,\n",
       " ['var_4',\n",
       "  'var_7',\n",
       "  'var_12',\n",
       "  'var_15',\n",
       "  'var_23',\n",
       "  'var_25',\n",
       "  'var_27',\n",
       "  'var_34',\n",
       "  'var_42',\n",
       "  'var_43',\n",
       "  'var_50',\n",
       "  'var_59',\n",
       "  'var_71',\n",
       "  'var_77',\n",
       "  'var_79',\n",
       "  'var_81',\n",
       "  'var_85',\n",
       "  'var_91',\n",
       "  'var_93',\n",
       "  'var_95',\n",
       "  'var_98',\n",
       "  'var_99',\n",
       "  'var_103',\n",
       "  'var_108',\n",
       "  'var_109',\n",
       "  'var_121',\n",
       "  'var_125',\n",
       "  'var_126',\n",
       "  'var_130',\n",
       "  'var_131',\n",
       "  'var_133',\n",
       "  'var_144',\n",
       "  'var_148',\n",
       "  'var_150',\n",
       "  'var_153',\n",
       "  'var_156',\n",
       "  'var_166',\n",
       "  'var_181',\n",
       "  'var_189',\n",
       "  'var_194',\n",
       "  'var_195',\n",
       "  'var_197',\n",
       "  'var_198'])"
      ]
     },
     "execution_count": 6,
     "metadata": {},
     "output_type": "execute_result"
    }
   ],
   "source": [
    "len(second_level_date_cols), second_level_date_cols"
   ]
  },
  {
   "cell_type": "code",
   "execution_count": 7,
   "metadata": {},
   "outputs": [
    {
     "data": {
      "text/plain": [
       "199"
      ]
     },
     "execution_count": 7,
     "metadata": {},
     "output_type": "execute_result"
    }
   ],
   "source": [
    "len(date_cols+second_level_date_cols)"
   ]
  },
  {
   "cell_type": "markdown",
   "metadata": {},
   "source": [
    "> All column are dates then!"
   ]
  }
 ],
 "metadata": {
  "kernelspec": {
   "display_name": "Python 3",
   "language": "python",
   "name": "python3"
  },
  "language_info": {
   "codemirror_mode": {
    "name": "ipython",
    "version": 3
   },
   "file_extension": ".py",
   "mimetype": "text/x-python",
   "name": "python",
   "nbconvert_exporter": "python",
   "pygments_lexer": "ipython3",
   "version": "3.5.6"
  }
 },
 "nbformat": 4,
 "nbformat_minor": 2
}
