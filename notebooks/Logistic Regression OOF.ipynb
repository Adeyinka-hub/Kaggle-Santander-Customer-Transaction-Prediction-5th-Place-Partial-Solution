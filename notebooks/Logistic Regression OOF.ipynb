{
 "cells": [
  {
   "cell_type": "code",
   "execution_count": 1,
   "metadata": {},
   "outputs": [],
   "source": [
    "import numpy as np; np.random.seed(0)\n",
    "import tensorflow as tf; tf.set_random_seed(seed=0)\n",
    "import pandas as pd\n",
    "import lightgbm as lgb\n",
    "import gc\n",
    "from collections import defaultdict\n",
    "import matplotlib\n",
    "from tqdm import tqdm"
   ]
  },
  {
   "cell_type": "code",
   "execution_count": 2,
   "metadata": {},
   "outputs": [],
   "source": [
    "train = pd.read_pickle('data/train_original.pkl')\n",
    "test = pd.read_pickle('data/test_original.pkl')\n",
    "special_cols = [col for col in train.columns if train[col].dtype != np.float64]\n",
    "feature_cols = [col for col in train.columns if col not in special_cols]\n",
    "target = train.target.values\n",
    "#feature_cols = feature_cols[:2]"
   ]
  },
  {
   "cell_type": "code",
   "execution_count": 3,
   "metadata": {},
   "outputs": [
    {
     "name": "stderr",
     "output_type": "stream",
     "text": [
      "100%|████████████████████████████████████████████████████████████████████████████| 200/200 [00:05<00:00, 33.82it/s]\n"
     ]
    },
    {
     "name": "stdout",
     "output_type": "stream",
     "text": [
      "100000\n",
      "100000\n"
     ]
    },
    {
     "name": "stderr",
     "output_type": "stream",
     "text": [
      "100%|████████████████████████████████████████████████████████████████████████████| 200/200 [02:10<00:00,  1.00it/s]\n"
     ]
    }
   ],
   "source": [
    "def transform_freq_feature(df1,df2,df3_base,feat):\n",
    "    val1=df1[feat].values\n",
    "    val2=df3_base[feat].values\n",
    "    \n",
    "    defa1=defaultdict(lambda:0)\n",
    "    \n",
    "    for val in val1:\n",
    "        defa1[str(val)]+=1.\n",
    "    for val in val2:\n",
    "        defa1[str(val)]+=1.  \n",
    "        \n",
    "    df1[feat +\"_freq\"]= df1[feat].apply(lambda x :defa1[str(x)] ) \n",
    "    df2[feat+\"_freq\"]= df2[feat].apply(lambda x :defa1[str(x)] )  \n",
    "    \n",
    "def load_data():\n",
    "    train_df = train[feature_cols].copy()\n",
    "    test_df = test[feature_cols].copy()\n",
    "    real_test_df = test[feature_cols].copy()\n",
    "\n",
    "    unique_samples = []\n",
    "    unique_count = np.zeros_like(test_df)\n",
    "    for feature in tqdm(range(test_df.shape[1])):\n",
    "        _, index_, count_ = np.unique(test_df.values[:, feature], return_counts=True, return_index=True)\n",
    "        unique_count[index_[count_ == 1], feature] += 1\n",
    "    \n",
    "    # Samples which have unique values are real the others are fake\n",
    "    real_samples_indexes = np.argwhere(np.sum(unique_count, axis=1) > 0)[:, 0]\n",
    "    synthetic_samples_indexes = np.argwhere(np.sum(unique_count, axis=1) == 0)[:, 0]\n",
    "    \n",
    "    real_test_df=real_test_df.iloc[real_samples_indexes]\n",
    "    print(real_test_df.shape[0])\n",
    "    print(len(synthetic_samples_indexes))\n",
    "    \n",
    "    columns=train_df.columns.values\n",
    "    for col in tqdm(columns):\n",
    "        transform_freq_feature(train_df,test_df,real_test_df,col)\n",
    "     \n",
    "    return train_df.fillna(-1), test_df.fillna(-1), real_samples_indexes \n",
    "\n",
    "train_df, test_df, real_samples_indexes = load_data()"
   ]
  },
  {
   "cell_type": "code",
   "execution_count": 4,
   "metadata": {
    "scrolled": true
   },
   "outputs": [
    {
     "name": "stdout",
     "output_type": "stream",
     "text": [
      "add magic done\n",
      "feature normalization done\n"
     ]
    },
    {
     "name": "stderr",
     "output_type": "stream",
     "text": [
      "100%|████████████████████████████████████████████████████████████████████████████| 600/600 [00:52<00:00,  4.29it/s]\n"
     ]
    },
    {
     "name": "stdout",
     "output_type": "stream",
     "text": [
      "new column creation done\n",
      "2400\n"
     ]
    },
    {
     "name": "stderr",
     "output_type": "stream",
     "text": [
      "100%|███████████████████████████████████████████████████████████████████████████| 600/600 [00:05<00:00, 118.23it/s]\n"
     ]
    },
    {
     "name": "stdout",
     "output_type": "stream",
     "text": [
      "2400\n"
     ]
    },
    {
     "name": "stderr",
     "output_type": "stream",
     "text": [
      "100%|███████████████████████████████████████████████████████████████████████████| 600/600 [00:05<00:00, 118.44it/s]\n"
     ]
    },
    {
     "name": "stdout",
     "output_type": "stream",
     "text": [
      "2400\n",
      "(200000, 2400)\n",
      "[[ 0.         -0.55467426  0.         ...  0.          0.\n",
      "   0.        ]\n",
      " [ 0.         -0.37630699  0.         ...  0.          0.\n",
      "   0.        ]\n",
      " [ 0.         -0.750562    0.         ...  0.          0.\n",
      "   0.        ]\n",
      " ...\n",
      " [ 0.         -0.43745682  0.         ... -0.34104018  0.\n",
      "   0.        ]\n",
      " [ 0.          0.          0.         ... -0.34104018  0.\n",
      "   0.        ]\n",
      " [ 0.         -0.79801733  0.         ... -0.34104018  0.\n",
      "   0.        ]]\n"
     ]
    }
   ],
   "source": [
    "from sklearn.preprocessing import StandardScaler\n",
    "\n",
    "train_df = pd.concat([train_df, pd.read_pickle('features/magic_train')], axis=1)\n",
    "test_df = pd.concat([test_df, pd.read_pickle('features/magic_test')], axis=1)\n",
    "print('add magic done')\n",
    "\n",
    "std = StandardScaler()\n",
    "std.fit(train_df.append(test_df.loc[real_samples_indexes,:]).values)\n",
    "train_df.loc[:] = std.transform(train_df.values)\n",
    "test_df.loc[:] = std.transform(test_df.values)\n",
    "print('feature normalization done')\n",
    "\n",
    "new_feat_cols = train_df.columns.tolist()\n",
    "for f_i, f in enumerate(tqdm(new_feat_cols)):\n",
    "    for i in range(3):\n",
    "        train_df[f+'_filt_{}'.format(i)] = 0\n",
    "        test_df[f+'_filt_{}'.format(i)] = 0\n",
    "print('new column creation done')\n",
    "print(train_df.shape[1])\n",
    "\n",
    "train_vals = train_df.values\n",
    "test_vals = test_df.values\n",
    "\n",
    "def get_updated_vals(vals):\n",
    "    counter = len(new_feat_cols)\n",
    "    for ix1, f in enumerate(tqdm(new_feat_cols)):\n",
    "        filts = [vals[:,ix1]<-0.05, (vals[:,ix1]>=-0.1) & (vals[:,ix1]<0), (vals[:,ix1]>=0) & (vals[:,ix1]<0.1)]\n",
    "        #filts = [vals[:,ix1]<0]\n",
    "        for i, filt in enumerate(filts):\n",
    "            new_vals = np.zeros((vals.shape[0],))\n",
    "            new_vals[filt] = vals[filt, ix1]\n",
    "            vals[filt, ix1] = 0\n",
    "            vals[:, counter] = new_vals\n",
    "            counter += 1\n",
    "    print(counter)\n",
    "    return vals\n",
    "\n",
    "train_vals = get_updated_vals(train_vals)\n",
    "test_vals = get_updated_vals(test_vals)\n",
    "\n",
    "print(train_vals.shape)\n",
    "print(train_vals[:,-10:])\n",
    "train_df = pd.DataFrame(columns=train_df.columns, data=train_vals)\n",
    "test_df = pd.DataFrame(columns=test_df.columns, data=test_vals)"
   ]
  },
  {
   "cell_type": "code",
   "execution_count": 5,
   "metadata": {
    "scrolled": true
   },
   "outputs": [
    {
     "data": {
      "text/plain": [
       "array([[0.        , 0.        ],\n",
       "       [0.        , 0.        ],\n",
       "       [0.        , 0.        ],\n",
       "       [0.        , 0.        ],\n",
       "       [0.        , 0.        ],\n",
       "       [0.        , 0.        ],\n",
       "       [0.        , 0.        ],\n",
       "       [0.        , 0.        ],\n",
       "       [0.        , 0.        ],\n",
       "       [0.        , 0.        ],\n",
       "       [0.        , 0.        ],\n",
       "       [0.        , 0.        ],\n",
       "       [0.        , 0.        ],\n",
       "       [0.        , 0.        ],\n",
       "       [0.        , 0.        ],\n",
       "       [0.        , 0.        ],\n",
       "       [0.        , 0.        ],\n",
       "       [0.        , 0.        ],\n",
       "       [0.        , 0.        ],\n",
       "       [0.        , 0.        ],\n",
       "       [0.        , 0.        ],\n",
       "       [0.        , 0.        ],\n",
       "       [0.        , 0.        ],\n",
       "       [0.        , 0.        ],\n",
       "       [0.        , 0.        ],\n",
       "       [0.        , 0.        ],\n",
       "       [0.        , 0.        ],\n",
       "       [0.        , 0.05420939],\n",
       "       [0.        , 0.        ],\n",
       "       [0.        , 0.        ]])"
      ]
     },
     "execution_count": 5,
     "metadata": {},
     "output_type": "execute_result"
    }
   ],
   "source": [
    "train_vals[:30,-2:]"
   ]
  },
  {
   "cell_type": "code",
   "execution_count": 6,
   "metadata": {},
   "outputs": [
    {
     "data": {
      "text/plain": [
       "(200000, 2400)"
      ]
     },
     "execution_count": 6,
     "metadata": {},
     "output_type": "execute_result"
    }
   ],
   "source": [
    "train_df.shape"
   ]
  },
  {
   "cell_type": "code",
   "execution_count": 7,
   "metadata": {},
   "outputs": [
    {
     "name": "stdout",
     "output_type": "stream",
     "text": [
      "Fold 0\n",
      "0.8977139290781707\n",
      "Fold 1\n",
      "0.9025292158073883\n",
      "Fold 2\n",
      "0.9039871714337062\n",
      "Fold 3\n",
      "0.9023099443348579\n",
      "0.9015973628587355\n"
     ]
    }
   ],
   "source": [
    "from sklearn.preprocessing import MinMaxScaler, StandardScaler\n",
    "from sklearn.model_selection import StratifiedKFold, KFold\n",
    "from sklearn.metrics import roc_auc_score\n",
    "from sklearn.linear_model import LogisticRegression\n",
    "\n",
    "version = 'lr_v11'\n",
    "oof = np.zeros(len(train_df))\n",
    "prediction = np.zeros(len(test_df))\n",
    "\n",
    "n_fold = 4\n",
    "folds = KFold(n_splits=n_fold, shuffle=True, random_state=0)\n",
    "\n",
    "for fold_n, (train_index, valid_index) in enumerate(folds.split(train.target.values,train.target.values)):\n",
    "    \n",
    "    print('Fold', fold_n)\n",
    "    X_train, X_valid = train_df.loc[train_index].values, train_df.loc[valid_index].values\n",
    "    y_train, y_valid = train.target.values[train_index], train.target.values[valid_index]\n",
    "    \n",
    "    lr = LogisticRegression(solver='liblinear')\n",
    "    lr.fit(X_train, y_train)\n",
    "    \n",
    "    oof[valid_index] = lr.predict_proba(X_valid)[:,1]\n",
    "    prediction += lr.predict_proba(test_df.values)[:,1]/n_fold\n",
    "    print(roc_auc_score(y_valid, oof[valid_index]))\n",
    "    \n",
    "full_auc = roc_auc_score(train.target.values, oof)\n",
    "print(full_auc)\n",
    "\n",
    "# v1: standardize original columns + untuned magic: aucs: [0.8839, 0.8891, 0.8893, 0.8883] overall aucs: 0.8876\n",
    "# v2: no standardize original columns + untuned magic: aucs: [0.8816, 0.8877, 0.8879, 0.8872] overall aucs: 0.8860\n",
    "# v3: standardize real only original columns + untuned magic: aucs: [0.8839, 0.8892, 0.8894, 0.8883] overall aucs: 0.8876\n",
    "# v4: standardize original+freq columns + untuned magic: aucs: [0.8845, 0.8899, 0.8899, 0.8888] overall aucs: 0.8882\n",
    "# v5: v4 + separate pos\\neg: aucs: [0.8920, 0.8965, 0.8975, 0.8968] overall aucs: 0.8956\n",
    "# v6: v5 + separate pos\\neg freq: aucs: [0.8928, 0.8978, 0.8982, 0.8974] overall aucs: 0.8965\n",
    "# v7: v6 + standardize magic: aucs: [0.8932, 0.8980, 0.8985, 0.8977] overall aucs: 0.8968\n",
    "# v8: v7 bug fixed: aucs: [0.8967, 0.9006, 0.9022, 0.9003] overall aucs: 0.8999\n",
    "# v9: v8 + separate pos\\neg exp: aucs: [0.8975, 0.9019, 0.9039, 0.9018] overall aucs: 0.9013\n",
    "# v10: v9 + l1 penalty: worse then v9\n",
    "# v11: v9 + separate to using thresholds -0.05, 0, 0.05: aucs: [0.8975, 0.9019, 0.9039, 0.9018] overall aucs: 0.90156"
   ]
  },
  {
   "cell_type": "code",
   "execution_count": 8,
   "metadata": {},
   "outputs": [
    {
     "data": {
      "text/plain": [
       "(0.10065855459578511, 0.09170037567599487)"
      ]
     },
     "execution_count": 8,
     "metadata": {},
     "output_type": "execute_result"
    }
   ],
   "source": [
    "oof.mean(), prediction.mean()"
   ]
  },
  {
   "cell_type": "code",
   "execution_count": 9,
   "metadata": {},
   "outputs": [],
   "source": [
    "pd.to_pickle(oof, 'oof+submission/'+version+'_oof_train')\n",
    "pd.to_pickle(prediction, 'oof+submission/'+version+'_oof_test')    \n",
    "sub = pd.DataFrame({\"ID_code\": test.ID_code.values})\n",
    "sub[\"target\"] = prediction\n",
    "sub.to_csv('oof+submission/' + version + '_' + str(full_auc).replace('.', '_') + \".csv\", index=False)"
   ]
  }
 ],
 "metadata": {
  "kernelspec": {
   "display_name": "Python 3",
   "language": "python",
   "name": "python3"
  },
  "language_info": {
   "codemirror_mode": {
    "name": "ipython",
    "version": 3
   },
   "file_extension": ".py",
   "mimetype": "text/x-python",
   "name": "python",
   "nbconvert_exporter": "python",
   "pygments_lexer": "ipython3",
   "version": "3.5.6"
  }
 },
 "nbformat": 4,
 "nbformat_minor": 2
}
