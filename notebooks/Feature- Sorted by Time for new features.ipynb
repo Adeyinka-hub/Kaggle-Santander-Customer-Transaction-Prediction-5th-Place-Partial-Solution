{
 "cells": [
  {
   "cell_type": "code",
   "execution_count": 1,
   "metadata": {},
   "outputs": [],
   "source": [
    "import pandas as pd\n",
    "import numpy as np\n",
    "import matplotlib\n",
    "import matplotlib.pyplot as plt\n",
    "%matplotlib inline\n",
    "from tqdm import tqdm; tqdm.pandas()\n",
    "pd.options.display.max_columns = 202\n",
    "pd.options.display.max_rows = 300"
   ]
  },
  {
   "cell_type": "code",
   "execution_count": 2,
   "metadata": {},
   "outputs": [],
   "source": [
    "train = pd.read_pickle('data/train_original.pkl')\n",
    "test = pd.read_pickle('data/test_original.pkl')\n",
    "special_cols = [col for col in train.columns if train[col].dtype != np.float64]\n",
    "feature_cols = [col for col in train.columns if col not in special_cols]"
   ]
  },
  {
   "cell_type": "code",
   "execution_count": 3,
   "metadata": {},
   "outputs": [],
   "source": [
    "all_df = pd.concat([train[feature_cols], test[feature_cols]], axis=0).reset_index(drop=True)\n",
    "all_df['is_train'] = [1]*train.shape[0] + [0]*test.shape[0]\n",
    "all_df['original_index'] = all_df.index"
   ]
  },
  {
   "cell_type": "code",
   "execution_count": 4,
   "metadata": {},
   "outputs": [],
   "source": [
    "all_df = all_df.sort_values('var_68').reset_index(drop=True)"
   ]
  },
  {
   "cell_type": "code",
   "execution_count": 5,
   "metadata": {},
   "outputs": [
    {
     "name": "stderr",
     "output_type": "stream",
     "text": [
      "100%|████████████████████████████████████████████████████████████████████████████| 200/200 [00:04<00:00, 49.42it/s]\n"
     ]
    }
   ],
   "source": [
    "gp = all_df.groupby('var_68')\n",
    "\n",
    "for col in tqdm(feature_cols):\n",
    "    if col == 'var_68':\n",
    "        continue\n",
    "    all_df[col+'_gp_68_mean'] = all_df['var_68'].map(gp[col].mean())"
   ]
  },
  {
   "cell_type": "code",
   "execution_count": 6,
   "metadata": {},
   "outputs": [],
   "source": [
    "new_feats = [c for c in all_df.columns if '_gp_68_mean' in c]\n",
    "all_df[new_feats].iloc[:train.shape[0]].to_pickle('features/gp_time_feats_train.pkl')\n",
    "all_df[new_feats].iloc[train.shape[0]:].reset_index(drop=True).to_pickle('features/gp_time_feats_test.pkl')"
   ]
  }
 ],
 "metadata": {
  "kernelspec": {
   "display_name": "Python 3",
   "language": "python",
   "name": "python3"
  },
  "language_info": {
   "codemirror_mode": {
    "name": "ipython",
    "version": 3
   },
   "file_extension": ".py",
   "mimetype": "text/x-python",
   "name": "python",
   "nbconvert_exporter": "python",
   "pygments_lexer": "ipython3",
   "version": "3.5.6"
  }
 },
 "nbformat": 4,
 "nbformat_minor": 2
}
