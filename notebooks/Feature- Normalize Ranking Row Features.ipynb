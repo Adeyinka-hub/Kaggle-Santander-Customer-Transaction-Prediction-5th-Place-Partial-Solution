{
 "cells": [
  {
   "cell_type": "code",
   "execution_count": 1,
   "metadata": {},
   "outputs": [],
   "source": [
    "import pandas as pd\n",
    "import numpy as np\n",
    "import matplotlib\n",
    "import matplotlib.pyplot as plt\n",
    "%matplotlib inline\n",
    "from tqdm import tqdm; tqdm.pandas()\n",
    "pd.options.display.max_columns = 202\n",
    "pd.options.display.max_rows = 300"
   ]
  },
  {
   "cell_type": "code",
   "execution_count": 2,
   "metadata": {},
   "outputs": [],
   "source": [
    "train = pd.read_pickle('data/train_original.pkl')\n",
    "test = pd.read_pickle('data/test_original.pkl')\n",
    "special_cols = [col for col in train.columns if train[col].dtype != np.float64]\n",
    "feature_cols = [col for col in train.columns if col not in special_cols]"
   ]
  },
  {
   "cell_type": "code",
   "execution_count": 3,
   "metadata": {},
   "outputs": [],
   "source": [
    "all_df = pd.concat([train[feature_cols], test[feature_cols]], axis=0).reset_index(drop=True)"
   ]
  },
  {
   "cell_type": "code",
   "execution_count": 4,
   "metadata": {},
   "outputs": [],
   "source": [
    "ascending_cols = [\n",
    "    0, 1, 2, 5, 6, 8, 18, 22, 24, 26, 32, 35, 40, 48, 49, 51, 52, 53,\n",
    "    67, 70, 71, 78, 82, 89, 90, 91, 94, 95, 99, 105, 106, 110, 111, 112,\n",
    "    118, 119, 125, 128, 130, 133, 134, 135, 137, 144, 145, 147, 151, 155,\n",
    "    157, 162, 163, 164, 167, 170, 173, 179, 180, 184, 190, 191,195, 196, 199\n",
    "]\n",
    "\n",
    "descending_cols = [\n",
    "    9, 12, 13, 20, 21, 23, 28, 31, 33, 36, 43, 56, 75, 76, 80, 81, 83,\n",
    "    85, 86, 87, 88, 92, 93, 104, 107, 108, 109, 115, 116, 121, 122, 123,\n",
    "    127, 131, 139, 141, 142, 146, 148, 149, 150, 154, 165, 166, 169, 172,\n",
    "    174, 177, 186, 188, 192, 197, 198, \n",
    "]"
   ]
  },
  {
   "cell_type": "code",
   "execution_count": 5,
   "metadata": {},
   "outputs": [
    {
     "name": "stderr",
     "output_type": "stream",
     "text": [
      "100%|██████████████████████████████████████████████████████████████████████████████| 63/63 [00:06<00:00, 10.36it/s]\n",
      "100%|██████████████████████████████████████████████████████████████████████████████| 53/53 [00:05<00:00, 10.09it/s]\n"
     ]
    }
   ],
   "source": [
    "for a in tqdm(ascending_cols):\n",
    "    col = feature_cols[a]\n",
    "    ranks = train[col].append(test[col]).rank(ascending=True)\n",
    "    ranks = (ranks-ranks.min())/(ranks.max()-ranks.min())\n",
    "    train[col] = ranks[:train.shape[0]]\n",
    "    test[col] = ranks[train.shape[0]:]\n",
    "    \n",
    "for a in tqdm(descending_cols):\n",
    "    col = feature_cols[a]\n",
    "    ranks = train[col].append(test[col]).rank(ascending=False)\n",
    "    ranks = (ranks-ranks.min())/(ranks.max()-ranks.min())\n",
    "    train[col] = ranks[:train.shape[0]]\n",
    "    test[col] = ranks[train.shape[0]:]"
   ]
  },
  {
   "cell_type": "code",
   "execution_count": 6,
   "metadata": {},
   "outputs": [],
   "source": [
    "selected_cols = ascending_cols + descending_cols\n",
    "selected_cols = np.array(feature_cols)[selected_cols]\n",
    "\n",
    "for df in [train, test]:\n",
    "    df['i_am_leaking_mean'] = df[selected_cols].mean(axis=1)\n",
    "    df['i_am_leaking_std'] = df[selected_cols].std(axis=1)\n",
    "    df['i_am_leaking_max'] = df[selected_cols].max(axis=1)\n",
    "    df['i_am_leaking_min'] = df[selected_cols].min(axis=1)"
   ]
  },
  {
   "cell_type": "code",
   "execution_count": 7,
   "metadata": {},
   "outputs": [
    {
     "data": {
      "text/plain": [
       "['i_am_leaking_mean',\n",
       " 'i_am_leaking_std',\n",
       " 'i_am_leaking_max',\n",
       " 'i_am_leaking_min']"
      ]
     },
     "execution_count": 7,
     "metadata": {},
     "output_type": "execute_result"
    }
   ],
   "source": [
    "selected_cols = [c for c in train.columns if 'leaking' in c]\n",
    "train[selected_cols].to_pickle('features/leaking_trend_train.pkl')\n",
    "test[selected_cols].to_pickle('features/leaking_trend_test.pkl')\n",
    "selected_cols"
   ]
  }
 ],
 "metadata": {
  "kernelspec": {
   "display_name": "Python 3",
   "language": "python",
   "name": "python3"
  },
  "language_info": {
   "codemirror_mode": {
    "name": "ipython",
    "version": 3
   },
   "file_extension": ".py",
   "mimetype": "text/x-python",
   "name": "python",
   "nbconvert_exporter": "python",
   "pygments_lexer": "ipython3",
   "version": "3.5.6"
  }
 },
 "nbformat": 4,
 "nbformat_minor": 2
}
